{
  "nbformat": 4,
  "nbformat_minor": 0,
  "metadata": {
    "colab": {
      "name": "TYRANT_IBS_CODE.ipynb",
      "provenance": [],
      "collapsed_sections": []
    },
    "kernelspec": {
      "name": "python3",
      "display_name": "Python 3"
    }
  },
  "cells": [
    {
      "cell_type": "code",
      "metadata": {
        "id": "0Bm-SUmfh3cM",
        "colab": {
          "base_uri": "https://localhost:8080/"
        },
        "outputId": "37addcac-5338-430e-b102-4d7fb0b930ef"
      },
      "source": [
        "!pip install gvmagic"
      ],
      "execution_count": null,
      "outputs": [
        {
          "output_type": "stream",
          "text": [
            "Collecting gvmagic\n",
            "  Downloading https://files.pythonhosted.org/packages/f7/f8/725b48babca08b58e863bd6f2335641578874c795c5936f8aba1802b74a9/gvmagic-0.5.tar.gz\n",
            "Building wheels for collected packages: gvmagic\n",
            "  Building wheel for gvmagic (setup.py) ... \u001b[?25l\u001b[?25hdone\n",
            "  Created wheel for gvmagic: filename=gvmagic-0.5-cp36-none-any.whl size=10375 sha256=9291163c3304145a28498ab45f4ec8a33517ab978ff800a94c33ce18c81369a5\n",
            "  Stored in directory: /root/.cache/pip/wheels/f6/67/1f/64d62350d4cffe0a94e39af37828a6a5bfba1b9b9d6d95dbf8\n",
            "Successfully built gvmagic\n",
            "Installing collected packages: gvmagic\n",
            "Successfully installed gvmagic-0.5\n"
          ],
          "name": "stdout"
        }
      ]
    },
    {
      "cell_type": "code",
      "metadata": {
        "id": "6bcvWbzIh4b8"
      },
      "source": [
        "import gvmagic"
      ],
      "execution_count": null,
      "outputs": []
    },
    {
      "cell_type": "code",
      "metadata": {
        "id": "8OCUy3Zph6IO"
      },
      "source": [
        "def debruijnize(reads):\r\n",
        "    nodes = set()\r\n",
        "   \r\n",
        "    edges = []\r\n",
        "    for r in reads:\r\n",
        "        r1 = r[:-1]\r\n",
        "        r2 = r[1:]\r\n",
        "        nodes.add(r1)\r\n",
        "        nodes.add(r2)\r\n",
        "        edges.append((r1,r2))       \r\n",
        "    return (nodes,edges)\r\n",
        "\r\n",
        "def build_k_mer(str,k):\r\n",
        "    return [str[i:k+i] for i in range(0,len(str)-k+1)]\r\n",
        "\r\n",
        "\r\n",
        "def make_node_edge_map(edges):\r\n",
        "    node_edge_map = {}\r\n",
        "    for e in edges:\r\n",
        "        n = e[0]\r\n",
        "        if n in node_edge_map:\r\n",
        "            node_edge_map[n].append(e[1])\r\n",
        "        else:\r\n",
        "            node_edge_map[n] = [e[1]]\r\n",
        "    return node_edge_map\r\n",
        "\r\n",
        "def visualize_debruijn(G):\r\n",
        "    nodes = G[0]\r\n",
        "    edges = G[1]\r\n",
        "    dot_str= 'digraph \"DeBruijn graph\" {\\n '\r\n",
        "    for node in nodes:\r\n",
        "        dot_str += '    %s [label=\"%s\"] ;\\n' %(node,node)\r\n",
        "    for src,dst in edges:\r\n",
        "        dot_str += '    %s->%s;\\n' %(src,dst)\r\n",
        "    return dot_str + '}\\n'\r\n",
        "\r\n",
        "visited = [] \r\n",
        "queue = []  \r\n",
        "\r\n",
        "def BFS(visited, graph, node):\r\n",
        "  visited.append(node)\r\n",
        "  queue.append(node)\r\n",
        "\r\n",
        "  while queue:\r\n",
        "    s = queue.pop(0) \r\n",
        "    print (s, end = \" \") \r\n",
        "\r\n",
        "    for neighbour in graph[s]:\r\n",
        "      if neighbour not in visited:\r\n",
        "        visited.append(neighbour)\r\n",
        "        queue.append(neighbour)\r\n",
        "\r\n",
        "  return visited\r\n",
        "\r\n",
        "def assemble_trail(trail):\r\n",
        "    if len(trail) == 0:\r\n",
        "        return \"\"\r\n",
        "    result = trail[0][:-1]   \r\n",
        "    for node in trail:      \r\n",
        "      if result[-1]==node[0]:          \r\n",
        "         result += node[-1]\r\n",
        "      else :\r\n",
        "         result += node\r\n",
        "    return result\r\n"
      ],
      "execution_count": null,
      "outputs": []
    },
    {
      "cell_type": "code",
      "metadata": {
        "colab": {
          "base_uri": "https://localhost:8080/"
        },
        "id": "PpHjaenJh9Lp",
        "outputId": "3fd6e861-3171-434e-ee3e-4018e5187dcc"
      },
      "source": [
        "reads = build_k_mer(\"TTAGCTT\",3)\r\n",
        "print(reads)"
      ],
      "execution_count": null,
      "outputs": [
        {
          "output_type": "stream",
          "text": [
            "['TTA', 'TAG', 'AGC', 'GCT', 'CTT']\n"
          ],
          "name": "stdout"
        }
      ]
    },
    {
      "cell_type": "code",
      "metadata": {
        "colab": {
          "base_uri": "https://localhost:8080/"
        },
        "id": "F0wntTu6h_WD",
        "outputId": "e92d461a-5205-4409-b1d5-7923e4f3ae9d"
      },
      "source": [
        "G = debruijnize(reads)\r\n",
        "print(G)"
      ],
      "execution_count": null,
      "outputs": [
        {
          "output_type": "stream",
          "text": [
            "({'GC', 'TA', 'AG', 'TT', 'CT'}, [('TT', 'TA'), ('TA', 'AG'), ('AG', 'GC'), ('GC', 'CT'), ('CT', 'TT')])\n"
          ],
          "name": "stdout"
        }
      ]
    },
    {
      "cell_type": "code",
      "metadata": {
        "colab": {
          "base_uri": "https://localhost:8080/"
        },
        "id": "9-sH2-78GbtT",
        "outputId": "81f2287e-21b1-47f7-985d-9bcfaaf9dd72"
      },
      "source": [
        "m = make_node_edge_map(G[1])\r\n",
        "print(m)"
      ],
      "execution_count": null,
      "outputs": [
        {
          "output_type": "stream",
          "text": [
            "{'TT': ['TA'], 'TA': ['AG'], 'AG': ['GC'], 'GC': ['CT'], 'CT': ['TT']}\n"
          ],
          "name": "stdout"
        }
      ]
    },
    {
      "cell_type": "code",
      "metadata": {
        "colab": {
          "base_uri": "https://localhost:8080/"
        },
        "id": "jqM8HKYWiCyW",
        "outputId": "4257e40b-f328-4a4b-c472-96766c8e1078"
      },
      "source": [
        "b=BFS(visited,m,'TT')"
      ],
      "execution_count": null,
      "outputs": [
        {
          "output_type": "stream",
          "text": [
            "TT TA AG GC CT "
          ],
          "name": "stdout"
        }
      ]
    },
    {
      "cell_type": "code",
      "metadata": {
        "id": "qIcta2lIyNkp"
      },
      "source": [
        "List = ['TT', 'TA', 'AG','GC', 'CT'] "
      ],
      "execution_count": null,
      "outputs": []
    },
    {
      "cell_type": "code",
      "metadata": {
        "id": "KW2WUyGbT98R",
        "colab": {
          "base_uri": "https://localhost:8080/"
        },
        "outputId": "8ae0efbd-a252-451c-ddf8-ad87ecd63f6d"
      },
      "source": [
        "get_ipython().magic(u'load_ext gvmagic')"
      ],
      "execution_count": null,
      "outputs": [
        {
          "output_type": "stream",
          "text": [
            "The gvmagic extension is already loaded. To reload it, use:\n",
            "  %reload_ext gvmagic\n"
          ],
          "name": "stdout"
        }
      ]
    },
    {
      "cell_type": "code",
      "metadata": {
        "colab": {
          "base_uri": "https://localhost:8080/",
          "height": 481
        },
        "id": "BM6ZIJitiGXe",
        "outputId": "eb820114-81b7-48f1-c2f0-795674029414"
      },
      "source": [
        "print('De-Bruijn Graph:')\r\n",
        "get_ipython().magic(u'dotstr visualize_debruijn(G)')"
      ],
      "execution_count": null,
      "outputs": [
        {
          "output_type": "stream",
          "text": [
            "De-Bruijn Graph:\n"
          ],
          "name": "stdout"
        },
        {
          "output_type": "display_data",
          "data": {
            "text/plain": [
              "<IPython.core.display.SVG object>"
            ],
            "image/svg+xml": "<svg height=\"332pt\" viewBox=\"0.00 0.00 89.00 332.00\" width=\"89pt\" xmlns=\"http://www.w3.org/2000/svg\" xmlns:xlink=\"http://www.w3.org/1999/xlink\">\n<g class=\"graph\" id=\"graph0\" transform=\"scale(1 1) rotate(0) translate(4 328)\">\n<title>DeBruijn graph</title>\n<polygon fill=\"#ffffff\" points=\"-4,4 -4,-328 85,-328 85,4 -4,4\" stroke=\"transparent\"/>\n<!-- GC -->\n<g class=\"node\" id=\"node1\">\n<title>GC</title>\n<ellipse cx=\"54\" cy=\"-306\" fill=\"none\" rx=\"27\" ry=\"18\" stroke=\"#000000\"/>\n<text fill=\"#000000\" font-family=\"Times,serif\" font-size=\"14.00\" text-anchor=\"middle\" x=\"54\" y=\"-302.3\">GC</text>\n</g>\n<!-- CT -->\n<g class=\"node\" id=\"node5\">\n<title>CT</title>\n<ellipse cx=\"27\" cy=\"-234\" fill=\"none\" rx=\"27\" ry=\"18\" stroke=\"#000000\"/>\n<text fill=\"#000000\" font-family=\"Times,serif\" font-size=\"14.00\" text-anchor=\"middle\" x=\"27\" y=\"-230.3\">CT</text>\n</g>\n<!-- GC&#45;&gt;CT -->\n<g class=\"edge\" id=\"edge4\">\n<title>GC-&gt;CT</title>\n<path d=\"M47.3258,-288.2022C44.2524,-280.0064 40.5384,-270.1024 37.1305,-261.0145\" fill=\"none\" stroke=\"#000000\"/>\n<polygon fill=\"#000000\" points=\"40.3858,-259.7274 33.5974,-251.593 33.8315,-262.1853 40.3858,-259.7274\" stroke=\"#000000\"/>\n</g>\n<!-- TA -->\n<g class=\"node\" id=\"node2\">\n<title>TA</title>\n<ellipse cx=\"27\" cy=\"-90\" fill=\"none\" rx=\"27\" ry=\"18\" stroke=\"#000000\"/>\n<text fill=\"#000000\" font-family=\"Times,serif\" font-size=\"14.00\" text-anchor=\"middle\" x=\"27\" y=\"-86.3\">TA</text>\n</g>\n<!-- AG -->\n<g class=\"node\" id=\"node3\">\n<title>AG</title>\n<ellipse cx=\"54\" cy=\"-18\" fill=\"none\" rx=\"27\" ry=\"18\" stroke=\"#000000\"/>\n<text fill=\"#000000\" font-family=\"Times,serif\" font-size=\"14.00\" text-anchor=\"middle\" x=\"54\" y=\"-14.3\">AG</text>\n</g>\n<!-- TA&#45;&gt;AG -->\n<g class=\"edge\" id=\"edge2\">\n<title>TA-&gt;AG</title>\n<path d=\"M33.6742,-72.2022C36.7476,-64.0064 40.4616,-54.1024 43.8695,-45.0145\" fill=\"none\" stroke=\"#000000\"/>\n<polygon fill=\"#000000\" points=\"47.1685,-46.1853 47.4026,-35.593 40.6142,-43.7274 47.1685,-46.1853\" stroke=\"#000000\"/>\n</g>\n<!-- AG&#45;&gt;GC -->\n<g class=\"edge\" id=\"edge3\">\n<title>AG-&gt;GC</title>\n<path d=\"M57.7474,-35.9069C59.7466,-46.3759 61.9966,-59.8759 63,-72 69.5984,-151.7274 69.5984,-172.2726 63,-252 62.2945,-260.5247 60.9727,-269.7297 59.5551,-278.083\" fill=\"none\" stroke=\"#000000\"/>\n<polygon fill=\"#000000\" points=\"56.0803,-277.6302 57.7474,-288.0931 62.9689,-278.8742 56.0803,-277.6302\" stroke=\"#000000\"/>\n</g>\n<!-- TT -->\n<g class=\"node\" id=\"node4\">\n<title>TT</title>\n<ellipse cx=\"27\" cy=\"-162\" fill=\"none\" rx=\"27\" ry=\"18\" stroke=\"#000000\"/>\n<text fill=\"#000000\" font-family=\"Times,serif\" font-size=\"14.00\" text-anchor=\"middle\" x=\"27\" y=\"-158.3\">TT</text>\n</g>\n<!-- TT&#45;&gt;TA -->\n<g class=\"edge\" id=\"edge1\">\n<title>TT-&gt;TA</title>\n<path d=\"M27,-143.8314C27,-136.131 27,-126.9743 27,-118.4166\" fill=\"none\" stroke=\"#000000\"/>\n<polygon fill=\"#000000\" points=\"30.5001,-118.4132 27,-108.4133 23.5001,-118.4133 30.5001,-118.4132\" stroke=\"#000000\"/>\n</g>\n<!-- CT&#45;&gt;TT -->\n<g class=\"edge\" id=\"edge5\">\n<title>CT-&gt;TT</title>\n<path d=\"M27,-215.8314C27,-208.131 27,-198.9743 27,-190.4166\" fill=\"none\" stroke=\"#000000\"/>\n<polygon fill=\"#000000\" points=\"30.5001,-190.4132 27,-180.4133 23.5001,-190.4133 30.5001,-190.4132\" stroke=\"#000000\"/>\n</g>\n</g>\n</svg>"
          },
          "metadata": {
            "tags": []
          }
        }
      ]
    },
    {
      "cell_type": "code",
      "metadata": {
        "colab": {
          "base_uri": "https://localhost:8080/",
          "height": 35
        },
        "id": "GGYU9dDjwa4i",
        "outputId": "6d50c29c-f1c4-4187-b861-4d8411b3ce15"
      },
      "source": [
        " assemble_trail(List)"
      ],
      "execution_count": null,
      "outputs": [
        {
          "output_type": "execute_result",
          "data": {
            "application/vnd.google.colaboratory.intrinsic+json": {
              "type": "string"
            },
            "text/plain": [
              "'TTAGCT'"
            ]
          },
          "metadata": {
            "tags": []
          },
          "execution_count": 24
        }
      ]
    }
  ]
}